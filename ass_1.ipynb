{
 "cells": [
  {
   "cell_type": "code",
   "execution_count": null,
   "metadata": {},
   "outputs": [],
   "source": [
    "1. In the below elements which of them are values or an expression? eg:- values can be\n",
    "integer or string and expressions will be mathematical operators.\n",
    "*\n",
    "&#39;hello&#39;\n",
    "-87.8\n",
    "-\n",
    "/\n",
    "+\n",
    "6"
   ]
  },
  {
   "attachments": {},
   "cell_type": "markdown",
   "metadata": {},
   "source": [
    ">Ans-\n",
    "\n",
    ">> Multiplication * is an operator\n",
    "\n",
    ">> &#39;hello&#39; is 'hello' which is a value\n",
    "\n",
    ">> -87.8 a value\n",
    "\n",
    ">> subtraction - is an operator\n",
    "\n",
    ">> division / is an operator\n",
    "\n",
    ">> addition + is an operator\n",
    "\n",
    ">> 6 is a value"
   ]
  },
  {
   "attachments": {},
   "cell_type": "markdown",
   "metadata": {},
   "source": [
    "2. What is the difference between string and variable?\n",
    "\n",
    "> Ans->\n",
    "\n",
    ">string is a data type used in python which stores a group of characters sucha as-\n",
    "\"hello how are you\"\n",
    "\n",
    ">variable is like a container which stores value of any data type, such as-\n",
    "result = 89"
   ]
  },
  {
   "attachments": {},
   "cell_type": "markdown",
   "metadata": {},
   "source": [
    "3. Describe three different data types.\n",
    "\n",
    "Ans->\n",
    "\n",
    ">1. Integer\n",
    "integer is one of the data type used in python which stores a whole number.\n",
    "ex- x = 3\n",
    "here x stores a value of 3, which is known as integer\n",
    "\n",
    ">2. Float\n",
    "float is fractional number and it is not a whole number.\n",
    "ex- f = 1.4\n",
    "\n",
    ">3. String \n",
    "string is a data type used to store a character or group of characters.\n",
    "ex- s = \"how are you\""
   ]
  },
  {
   "attachments": {},
   "cell_type": "markdown",
   "metadata": {},
   "source": [
    "4. What is an expression made up of? What do all expressions do?\n",
    "\n",
    ">Ans->\n",
    "\n",
    ">an expression is made up of operand and operator, and it is used to calculate some values.\n",
    "ex- x+y"
   ]
  },
  {
   "attachments": {},
   "cell_type": "markdown",
   "metadata": {},
   "source": [
    "5. This assignment statements, like spam = 10. What is the difference between an\n",
    "expression and a statement?\n",
    "\n",
    ">Ans->\n",
    "\n",
    ">expression is made up of operator and operand\n",
    "\n",
    ">statement is something that can be executed like spam = 10"
   ]
  },
  {
   "attachments": {},
   "cell_type": "markdown",
   "metadata": {},
   "source": [
    "6. After running the following code, what does the variable bacon contain?\n",
    "bacon = 22\n",
    "bacon + 1\n",
    "\n",
    ">Ans->\n",
    "\n",
    ">the bacon variable contains 22 even after executing 'bacon+1' because we are not re-assgining the updated value to the bacon variable"
   ]
  },
  {
   "attachments": {},
   "cell_type": "markdown",
   "metadata": {},
   "source": [
    "7. What should the values of the following two terms be?\n",
    "&#39;spam&#39; + &#39;spamspam&#39;\n",
    "&#39;spam&#39; * 3\n",
    "\n",
    ">Ans-\n",
    "\n",
    ">both return 'spamspamspam'\n",
    ">in the first one string concatenation is happening and in second we are getting 3 values of spam by multiplying"
   ]
  },
  {
   "attachments": {},
   "cell_type": "markdown",
   "metadata": {},
   "source": [
    "8. Why is eggs a valid variable name while 100 is invalid?\n",
    "\n",
    ">Ans->\n",
    "\n",
    ">in python, there are some rules for variable naming, which is the variable name can not start with a number, it should be a character or _ ."
   ]
  },
  {
   "attachments": {},
   "cell_type": "markdown",
   "metadata": {},
   "source": [
    "9. What three functions can be used to get the integer, floating-point number, or string\n",
    "version of a value?\n",
    "\n",
    ">Ans->\n",
    "\n",
    ">Suppose we have a value 10, and if we say-\n",
    ">>int(7), it will return 7\n",
    "\n",
    ">>float(7), it will return 10.0\n",
    "\n",
    ">>str(7), it will return '7'"
   ]
  },
  {
   "attachments": {},
   "cell_type": "markdown",
   "metadata": {},
   "source": [
    "10. Why does this expression cause an error? How can you fix it?\n",
    "&#39;I have eaten &#39; + 99 + &#39; burritos.&#39;\n",
    "\n",
    ">Ans-\n",
    "\n",
    ">above method only concatenates strings together, but to make it work, one must use-\n",
    ">>'I have eaten', 99, 'burritos'"
   ]
  }
 ],
 "metadata": {
  "kernelspec": {
   "display_name": "Python 3",
   "language": "python",
   "name": "python3"
  },
  "language_info": {
   "codemirror_mode": {
    "name": "ipython",
    "version": 3
   },
   "file_extension": ".py",
   "mimetype": "text/x-python",
   "name": "python",
   "nbconvert_exporter": "python",
   "pygments_lexer": "ipython3",
   "version": "3.11.1 (v3.11.1:a7a450f84a, Dec  6 2022, 15:24:06) [Clang 13.0.0 (clang-1300.0.29.30)]"
  },
  "orig_nbformat": 4,
  "vscode": {
   "interpreter": {
    "hash": "aee8b7b246df8f9039afb4144a1f6fd8d2ca17a180786b69acc140d282b71a49"
   }
  }
 },
 "nbformat": 4,
 "nbformat_minor": 2
}
