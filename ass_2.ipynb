{
 "cells": [
  {
   "attachments": {},
   "cell_type": "markdown",
   "metadata": {},
   "source": [
    "# Assignment - 2"
   ]
  },
  {
   "attachments": {},
   "cell_type": "markdown",
   "metadata": {},
   "source": [
    "1. What are the two values of the Boolean data type? How do you write them? \n",
    "\n",
    "Ans->\n",
    "    The two types of Boolean data types are-\n",
    "    a. True\n",
    "            True which also means 1\n",
    "    b. False\n",
    "            False which also means 0\n"
   ]
  },
  {
   "attachments": {},
   "cell_type": "markdown",
   "metadata": {},
   "source": [
    "2. What are the three different types of Boolean operators?\n",
    "\n",
    "Ans->\n",
    "    Three types of data types are-\n",
    "        a. and\n",
    "        b. not\n",
    "        c. or\n"
   ]
  },
  {
   "attachments": {},
   "cell_type": "markdown",
   "metadata": {},
   "source": [
    "3. Make a list of each Boolean operator's truth tables (i.e. every possible combination of Boolean values for the operator and what it evaluate ).\n",
    "\n",
    "Ans->\n",
    "    a. and Operator\n",
    "\n",
    "    a       b       a and b\n",
    "    False   False   False\n",
    "    False   True    False\n",
    "    True    False   False\n",
    "    True    True    True\n",
    "\n",
    "    b. or Operator\n",
    "    a       b       a or b\n",
    "    False   False   False\n",
    "    False   True    True\n",
    "    True    False   True\n",
    "    True    True    True\n",
    "\n",
    "    c. xor(^) operator\n",
    "    a       b       a ^ b\n",
    "    False   False   False\n",
    "    False   True    True\n",
    "    True    False   True\n",
    "    True    True    False\n",
    "\n",
    "    d. not operator\n",
    "    a       not a\n",
    "    False   True\n",
    "    True    False"
   ]
  },
  {
   "attachments": {},
   "cell_type": "markdown",
   "metadata": {},
   "source": [
    "4. What are the values of the following expressions?\n",
    "(5 > 4) and (3 == 5)\n",
    "not (5 > 4)\n",
    "(5 > 4) or (3 == 5)\n",
    "not ((5 > 4) or (3 == 5))\n",
    "(True and True) and (True == False)\n",
    "(not False) or (not True)\n",
    "\n",
    "Ans->\n",
    "    true and false = false\n",
    "    not true = false\n",
    "    true or false = true\n",
    "    not (true or false) = not true = false\n",
    "    true and false = false\n",
    "    true or false = true"
   ]
  },
  {
   "attachments": {},
   "cell_type": "markdown",
   "metadata": {},
   "source": [
    "5. What are the six comparison operators?\n",
    "\n",
    "Ans->\n",
    "    a. less than (<)\n",
    "    b. greater than (>)\n",
    "    c. equal to (==)\n",
    "    d. not equal to (!=)\n",
    "    e. less than or equal (<=)\n",
    "    f. greater than or equal (>=)"
   ]
  },
  {
   "attachments": {},
   "cell_type": "markdown",
   "metadata": {},
   "source": [
    "6. How do you tell the difference between the equal to and assignment operators?Describe a condition and when you would use one.\n",
    "\n",
    "Ans->\n",
    "    the assignment operator (=) is used to assign or give the value to the variable\n",
    "    e.g. b = 4\n",
    "    the equal operator (==) is used to check two variables or condition whether they are equal or not\n",
    "\n",
    "    Suppose if we give a and b the value of 4 and 5 respectively and we want to check whether they are equal or not-\n",
    "    a, b = 4, 5 \n",
    "    checking a==b"
   ]
  },
  {
   "attachments": {},
   "cell_type": "markdown",
   "metadata": {},
   "source": [
    "7. Identify the three blocks in this code:\n",
    "spam = 0\n",
    "if spam == 10:\n",
    "print('eggs')\n",
    "if spam > 5:\n",
    "print('bacon')\n",
    "else:\n",
    "print('ham')\n",
    "print('spam')\n",
    "print('spam')\n",
    "\n",
    "Ans->\n",
    "    spam = 0\n",
    "    if spam == 10:\n",
    "        print('eggs')\n",
    "        if spam > 5:\n",
    "            print('bacon')\n",
    "        else:\n",
    "            print('ham')\n",
    "            print('spam')\n",
    "            print('spam')\n",
    "    the first block is spam == 10\n",
    "    the second block is spam > 5\n",
    "    the third block is else "
   ]
  },
  {
   "attachments": {},
   "cell_type": "markdown",
   "metadata": {},
   "source": [
    "8. Write code that prints Hello if 1 is stored in spam, prints Howdy if 2 is stored in spam, and prints Greetings! if anything else is stored in spam."
   ]
  },
  {
   "cell_type": "code",
   "execution_count": 8,
   "metadata": {},
   "outputs": [
    {
     "name": "stdout",
     "output_type": "stream",
     "text": [
      "Greetings!\n"
     ]
    }
   ],
   "source": [
    "spam = int(input())\n",
    "if spam == 1:\n",
    "    print('Hello')\n",
    "elif spam == 2:\n",
    "    print('Howdy')\n",
    "else:\n",
    "    print('Greetings!')"
   ]
  }
 ],
 "metadata": {
  "kernelspec": {
   "display_name": "Python 3",
   "language": "python",
   "name": "python3"
  },
  "language_info": {
   "codemirror_mode": {
    "name": "ipython",
    "version": 3
   },
   "file_extension": ".py",
   "mimetype": "text/x-python",
   "name": "python",
   "nbconvert_exporter": "python",
   "pygments_lexer": "ipython3",
   "version": "3.11.1"
  },
  "orig_nbformat": 4,
  "vscode": {
   "interpreter": {
    "hash": "aee8b7b246df8f9039afb4144a1f6fd8d2ca17a180786b69acc140d282b71a49"
   }
  }
 },
 "nbformat": 4,
 "nbformat_minor": 2
}
